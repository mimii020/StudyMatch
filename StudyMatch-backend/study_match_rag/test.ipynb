{
 "cells": [
  {
   "cell_type": "code",
   "execution_count": null,
   "metadata": {},
   "outputs": [],
   "source": [
    "from pinecone import Pinecone, ServerlessSpec\n",
    "from langchain_community.document_loaders import PyPDFLoader\n",
    "from langchain.text_splitter import RecursiveCharacterTextSplitter\n",
    "from langchain.embeddings import HuggingFaceEmbeddings\n",
    "from langchain_pinecone import PineconeVectorStore\n",
    "from langchain_core.prompts import ChatPromptTemplate, PromptTemplate\n",
    "from langchain_core.runnables import RunnablePassthrough\n",
    "from langchain_core.output_parsers import StrOutputParser\n",
    "\n",
    "from langchain_groq import ChatGroq\n",
    "\n",
    "\n",
    "\n",
    "import time"
   ]
  },
  {
   "cell_type": "code",
   "execution_count": null,
   "metadata": {},
   "outputs": [],
   "source": [
    "import os\n",
    "from dotenv import load_dotenv\n",
    "load_dotenv()"
   ]
  },
  {
   "cell_type": "code",
   "execution_count": null,
   "metadata": {},
   "outputs": [],
   "source": [
    "groq_key = os.environ[\"GROQ_KEY\"]\n",
    "\n",
    "llm = ChatGroq(\n",
    "    api_key=groq_key,\n",
    "    name=\"meta-llama/Llama-3.1-8B\"\n",
    ")"
   ]
  },
  {
   "cell_type": "code",
   "execution_count": null,
   "metadata": {},
   "outputs": [],
   "source": [
    "# read the document\n",
    "def read_doc(directory):\n",
    "    file_loader = PyPDFLoader(directory)\n",
    "    documents = file_loader.load()\n",
    "    return documents "
   ]
  },
  {
   "cell_type": "code",
   "execution_count": null,
   "metadata": {},
   "outputs": [],
   "source": [
    "doc = read_doc('documents/linear_algebra_book.pdf')\n",
    "len(doc)\n",
    "print(doc[20])"
   ]
  },
  {
   "cell_type": "code",
   "execution_count": null,
   "metadata": {},
   "outputs": [],
   "source": [
    "# divide docs into chunks\n",
    "def chunk_data(docs, chunk_size=800, chunk_overlap=50):\n",
    "    text_splitter = RecursiveCharacterTextSplitter(\n",
    "        chunk_size=chunk_size,\n",
    "        chunk_overlap=chunk_overlap\n",
    "        )\n",
    "    chunked_docs = text_splitter.split_documents(docs)\n",
    "    return chunked_docs"
   ]
  },
  {
   "cell_type": "code",
   "execution_count": null,
   "metadata": {},
   "outputs": [],
   "source": [
    "chunked_documents = chunk_data(doc)\n",
    "len(chunked_documents)"
   ]
  },
  {
   "cell_type": "code",
   "execution_count": null,
   "metadata": {},
   "outputs": [],
   "source": [
    "# embedding by openai\n",
    "embeddings = HuggingFaceEmbeddings(model_name=\"sentence-transformers/all-MiniLM-L6-v2\")\n",
    "embeddings"
   ]
  },
  {
   "cell_type": "code",
   "execution_count": null,
   "metadata": {},
   "outputs": [],
   "source": [
    "vectors = embeddings.embed_query(\"heyy there\")\n",
    "len(vectors)"
   ]
  },
  {
   "cell_type": "code",
   "execution_count": null,
   "metadata": {},
   "outputs": [],
   "source": [
    "# vector search db in pinecone\n",
    "pinecone = Pinecone(\n",
    "    api_key=os.environ[\"PINECONE_KEY\"],\n",
    ")\n",
    "\n",
    "index_name = \"langchainvector\"\n",
    "\n",
    "existing_indexes = [index_info[\"name\"] for index_info in pinecone.list_indexes()]\n",
    "\n",
    "if index_name not in existing_indexes:\n",
    "    pinecone.create_index(\n",
    "        name=index_name,\n",
    "        dimension=384,\n",
    "        metric=\"cosine\",\n",
    "        spec=ServerlessSpec(cloud=\"aws\", region=\"us-east-1\"),\n",
    "    )\n",
    "    while not pinecone.describe_index(index_name).status[\"ready\"]:\n",
    "        time.sleep(1)\n",
    "\n",
    "index = pinecone.Index(index_name)\n",
    "\n",
    "vector_store = PineconeVectorStore(index=index, embedding=embeddings)\n",
    "\n",
    "ids = vector_store.add_documents(\n",
    "    documents=chunked_documents\n",
    ")"
   ]
  },
  {
   "cell_type": "code",
   "execution_count": null,
   "metadata": {},
   "outputs": [],
   "source": [
    "print(vector_store._index.describe_index_stats())  # Confirm documents are stored"
   ]
  },
  {
   "cell_type": "code",
   "execution_count": null,
   "metadata": {},
   "outputs": [],
   "source": [
    "def retreive_query(query, k=2):\n",
    "    results = vector_store.similarity_search(\n",
    "        query=query,\n",
    "        k=3,\n",
    "    )\n",
    "\n",
    "    return results"
   ]
  },
  {
   "cell_type": "code",
   "execution_count": null,
   "metadata": {},
   "outputs": [],
   "source": [
    "results = retreive_query(\"What's algebra'?\", k=3)\n",
    "results"
   ]
  },
  {
   "cell_type": "code",
   "execution_count": null,
   "metadata": {},
   "outputs": [],
   "source": [
    "retreiver = vector_store.as_retriever(\n",
    "    search_type=\"similarity\",\n",
    "    search_kwargs={\"k\":2},\n",
    ")\n",
    "\n",
    "system_template = \"\"\"<|begin_of_text|>\n",
    "    <|start_header_id|>system<|end_header_id|>\n",
    "    You are an encouraging maths tutor for STEM students. Follow these rules:\n",
    "    1. Explain concepts in the user INPUT below, using simple terms with real-world examples\n",
    "    2. Break problems into step-by-step solutions\n",
    "    3. Use LaTeX formatting for equations: $x^2 + 3x = 0$\n",
    "    4. Ask guiding questions instead of giving direct answers\n",
    "    5. Explain concepts using examples from CONTEXT below\n",
    "    6. Cite sources when using specific formulas/theorems\n",
    "    7. Combine CONTEXT with your general math knowledge\n",
    "\n",
    "    CONTEXT: {context}\n",
    "    INPUT: {input}<|eot_id|>\n",
    "    <|start_header_id|>assistant<|end_header_id|>\n",
    "\"\"\"\n",
    "\n",
    "prompt = ChatPromptTemplate.from_template(system_template)"
   ]
  },
  {
   "cell_type": "code",
   "execution_count": null,
   "metadata": {},
   "outputs": [],
   "source": [
    "def format_docs(docs):\n",
    "    return\"\\n\\n\".join([\n",
    "            doc.page_content\n",
    "            if hasattr(doc, \"page_content\")\n",
    "            else str(doc.get(\"page_content\", \"\")) \n",
    "            for doc in docs \n",
    "    ])"
   ]
  },
  {
   "cell_type": "code",
   "execution_count": null,
   "metadata": {},
   "outputs": [],
   "source": [
    "from langchain.schema import HumanMessage\n",
    "\n",
    "def convert_to_chat_message(state):\n",
    "    input_text = state.get(\"input\", \"\")\n",
    "    state[\"input\"] = [HumanMessage(content=input_text)]\n",
    "    return state"
   ]
  },
  {
   "cell_type": "code",
   "execution_count": 73,
   "metadata": {},
   "outputs": [],
   "source": [
    "chain = (\n",
    "    {\n",
    "        \"context\": RunnablePassthrough() | retreiver,\n",
    "        \"input\": RunnablePassthrough()\n",
    "    }\n",
    "    | prompt\n",
    "    | llm\n",
    "    \n",
    ")\n",
    "\n"
   ]
  },
  {
   "cell_type": "code",
   "execution_count": 76,
   "metadata": {},
   "outputs": [
    {
     "name": "stdout",
     "output_type": "stream",
     "text": [
      "content=\"An Euclidean space is a mathematical concept that generalizes the properties of our three-dimensional world. It's named after the ancient Greek mathematician Euclid, who laid the foundations of geometry. \\n\\nIn simpler terms, an Euclidean space is a set of points, along with a system of measurements for distances and angles between these points. The most common example is the three-dimensional space we live in, where the measurements are given by the familiar coordinates $(x, y, z)$.\\n\\nThis concept is not limited to three dimensions. For instance, the Euclidean plane (a two-dimensional space) is an example of an Euclidean space, as well as the one-dimensional space of real numbers.\\n\\nIn the context of your document, the Euclidean space is likely referring to the real number space $\\\\mathbb{R}^n$, where $n$ is the number of dimensions. This is often used in linear algebra and other mathematics fields.\\n\\nDo you have any specific properties or aspects of Euclidean spaces you'd like to know more about?\" additional_kwargs={} response_metadata={'token_usage': {'completion_tokens': 238, 'prompt_tokens': 1044, 'total_tokens': 1282, 'completion_time': 0.368292072, 'prompt_time': 0.064782765, 'queue_time': 0.27741365599999995, 'total_time': 0.433074837}, 'model_name': 'mixtral-8x7b-32768', 'system_fingerprint': 'fp_c5f20b5bb1', 'finish_reason': 'stop', 'logprobs': None} id='run-8ab87138-b773-41f8-a4ce-93e9fff58732-0' usage_metadata={'input_tokens': 1044, 'output_tokens': 238, 'total_tokens': 1282}\n"
     ]
    }
   ],
   "source": [
    "result = chain.invoke(\"what does an euclidian space mean?\")\n",
    "print(result)"
   ]
  },
  {
   "cell_type": "code",
   "execution_count": 77,
   "metadata": {},
   "outputs": [
    {
     "name": "stdout",
     "output_type": "stream",
     "text": [
      "content='Sure, I\\'d be happy to explain!\\n\\nIn the context of linear algebra, eigenvalues and eigenvectors are special values and vectors associated with a linear transformation (represented by a matrix). \\n\\nLet\\'s break this down:\\n\\n1. **Vector**: A vector is a mathematical object that has both magnitude (size) and direction. You can visualize a vector as an arrow in space.\\n\\n2. **Linear Transformation**: This is a function that maps vectors to other vectors. In other words, it changes the magnitude and/or direction of a vector. \\n\\n3. **Eigenvector and Eigenvalue**: When a linear transformation is applied to an eigenvector, the resulting vector is just a scaled version of the original eigenvector. The amount by which the eigenvector is scaled is the eigenvalue. \\n\\nFor example, if we have a matrix A and an eigenvector v, applying A to v gives us Av = λv, where λ is the eigenvalue.\\n\\nIn the context of your documents, the Singular Value Decomposition (SVD) is being discussed. The SVD is a factorization of a matrix into three matrices: U, Σ, and V^T. The columns of U and V^T are eigenvectors of A^TA and AT, respectively, and the diagonal elements of Σ are the square roots of the eigenvalues of A^TA or AT.\\n\\nI hope this helps! If you have any more questions, feel free to ask.\\n\\n(For more information, you can refer to the book \"Linear Algebra and Its Applications\" by Gilbert Strang.)' additional_kwargs={} response_metadata={'token_usage': {'completion_tokens': 355, 'prompt_tokens': 973, 'total_tokens': 1328, 'completion_time': 0.549710446, 'prompt_time': 0.074353055, 'queue_time': 0.24287848699999998, 'total_time': 0.624063501}, 'model_name': 'mixtral-8x7b-32768', 'system_fingerprint': 'fp_c5f20b5bb1', 'finish_reason': 'stop', 'logprobs': None} id='run-79550fd9-7ce7-4bbc-b46c-dde55f33c653-0' usage_metadata={'input_tokens': 973, 'output_tokens': 355, 'total_tokens': 1328}\n"
     ]
    }
   ],
   "source": [
    "result = chain.invoke(\"can u explain eugn values and vectors\")\n",
    "print(result)"
   ]
  },
  {
   "cell_type": "code",
   "execution_count": null,
   "metadata": {},
   "outputs": [],
   "source": [
    "test_docs = retreiver.get_relevant_documents(\"test query\")\n",
    "test_docs"
   ]
  },
  {
   "cell_type": "code",
   "execution_count": null,
   "metadata": {},
   "outputs": [],
   "source": [
    "output=llm.invoke([HumanMessage(content=\"Hello!\")])\n",
    "print(output)"
   ]
  }
 ],
 "metadata": {
  "kernelspec": {
   "display_name": ".venv",
   "language": "python",
   "name": "python3"
  },
  "language_info": {
   "codemirror_mode": {
    "name": "ipython",
    "version": 3
   },
   "file_extension": ".py",
   "mimetype": "text/x-python",
   "name": "python",
   "nbconvert_exporter": "python",
   "pygments_lexer": "ipython3",
   "version": "3.13.2"
  }
 },
 "nbformat": 4,
 "nbformat_minor": 2
}
